{
  "nbformat": 4,
  "nbformat_minor": 5,
  "metadata": {
    "kernelspec": {
      "display_name": "Python 3",
      "language": "python",
      "name": "python3"
    },
    "language_info": {
      "codemirror_mode": {
        "name": "ipython",
        "version": 3
      },
      "file_extension": ".py",
      "mimetype": "text/x-python",
      "name": "python",
      "nbconvert_exporter": "python",
      "pygments_lexer": "ipython3",
      "version": "3.7.9"
    },
    "papermill": {
      "default_parameters": {},
      "duration": 17.386534,
      "end_time": "2021-04-19T18:45:45.548637",
      "environment_variables": {},
      "exception": null,
      "input_path": "__notebook__.ipynb",
      "output_path": "__notebook__.ipynb",
      "parameters": {},
      "start_time": "2021-04-19T18:45:28.162103",
      "version": "2.3.2"
    },
    "colab": {
      "name": "co2-emission-regression-techniques.ipynb",
      "provenance": [],
      "collapsed_sections": [
        "intermediate-secretary"
      ]
    }
  },
  "cells": [
    {
      "cell_type": "code",
      "metadata": {
        "_cell_guid": "b1076dfc-b9ad-4769-8c92-a6c4dae69d19",
        "_uuid": "8f2839f25d086af736a60e9eeb907d3b93b6e0e5",
        "execution": {
          "iopub.execute_input": "2021-04-19T18:45:35.104788Z",
          "iopub.status.busy": "2021-04-19T18:45:35.104130Z",
          "iopub.status.idle": "2021-04-19T18:45:36.174259Z",
          "shell.execute_reply": "2021-04-19T18:45:36.173324Z"
        },
        "papermill": {
          "duration": 1.105825,
          "end_time": "2021-04-19T18:45:36.174444",
          "exception": false,
          "start_time": "2021-04-19T18:45:35.068619",
          "status": "completed"
        },
        "tags": [],
        "id": "imposed-corrections",
        "outputId": "a98a4336-64e5-45b5-a365-71c148e50e07"
      },
      "source": [
        "# This Python 3 environment comes with many helpful analytics libraries installed\n",
        "# It is defined by the kaggle/python Docker image: https://github.com/kaggle/docker-python\n",
        "\n",
        "import numpy as np # linear algebra\n",
        "import pandas as pd # data processing, CSV file I/O (e.g. pd.read_csv)\n",
        "import matplotlib.pyplot as plt\n",
        "import seaborn as sns\n",
        "# Input data files are available in the read-only \"../input/\" directory\n",
        "# For example, running this (by clicking run or pressing Shift+Enter) will list all files under the input directory\n",
        "\n",
        "import os\n",
        "for dirname, _, filenames in os.walk('/kaggle/input'):\n",
        "    for filename in filenames:\n",
        "        print(os.path.join(dirname, filename))\n",
        " "
      ],
      "id": "imposed-corrections",
      "execution_count": null,
      "outputs": [
        {
          "output_type": "stream",
          "text": [
            "/kaggle/input/co2-emission-by-vehicles/CO2 Emissions_Canada.csv\n",
            "/kaggle/input/co2-emission-by-vehicles/Data Description.csv\n"
          ],
          "name": "stdout"
        }
      ]
    },
    {
      "cell_type": "markdown",
      "metadata": {
        "papermill": {
          "duration": 0.027461,
          "end_time": "2021-04-19T18:45:36.230808",
          "exception": false,
          "start_time": "2021-04-19T18:45:36.203347",
          "status": "completed"
        },
        "tags": [],
        "id": "existing-karen"
      },
      "source": [
        "# Reading the data"
      ],
      "id": "existing-karen"
    },
    {
      "cell_type": "code",
      "metadata": {
        "execution": {
          "iopub.execute_input": "2021-04-19T18:45:36.293311Z",
          "iopub.status.busy": "2021-04-19T18:45:36.292555Z",
          "iopub.status.idle": "2021-04-19T18:45:36.371709Z",
          "shell.execute_reply": "2021-04-19T18:45:36.371171Z"
        },
        "papermill": {
          "duration": 0.113297,
          "end_time": "2021-04-19T18:45:36.371846",
          "exception": false,
          "start_time": "2021-04-19T18:45:36.258549",
          "status": "completed"
        },
        "tags": [],
        "id": "hourly-privacy",
        "outputId": "4be5b5ad-6eb0-45c7-fd87-e978c6dd08ce"
      },
      "source": [
        "data = pd.read_csv(\"../input/co2-emission-by-vehicles/CO2 Emissions_Canada.csv\")\n",
        "data.head(10)"
      ],
      "id": "hourly-privacy",
      "execution_count": null,
      "outputs": [
        {
          "output_type": "execute_result",
          "data": {
            "text/html": [
              "<div>\n",
              "<style scoped>\n",
              "    .dataframe tbody tr th:only-of-type {\n",
              "        vertical-align: middle;\n",
              "    }\n",
              "\n",
              "    .dataframe tbody tr th {\n",
              "        vertical-align: top;\n",
              "    }\n",
              "\n",
              "    .dataframe thead th {\n",
              "        text-align: right;\n",
              "    }\n",
              "</style>\n",
              "<table border=\"1\" class=\"dataframe\">\n",
              "  <thead>\n",
              "    <tr style=\"text-align: right;\">\n",
              "      <th></th>\n",
              "      <th>Make</th>\n",
              "      <th>Model</th>\n",
              "      <th>Vehicle Class</th>\n",
              "      <th>Engine Size(L)</th>\n",
              "      <th>Cylinders</th>\n",
              "      <th>Transmission</th>\n",
              "      <th>Fuel Type</th>\n",
              "      <th>Fuel Consumption City (L/100 km)</th>\n",
              "      <th>Fuel Consumption Hwy (L/100 km)</th>\n",
              "      <th>Fuel Consumption Comb (L/100 km)</th>\n",
              "      <th>Fuel Consumption Comb (mpg)</th>\n",
              "      <th>CO2 Emissions(g/km)</th>\n",
              "    </tr>\n",
              "  </thead>\n",
              "  <tbody>\n",
              "    <tr>\n",
              "      <th>0</th>\n",
              "      <td>ACURA</td>\n",
              "      <td>ILX</td>\n",
              "      <td>COMPACT</td>\n",
              "      <td>2.0</td>\n",
              "      <td>4</td>\n",
              "      <td>AS5</td>\n",
              "      <td>Z</td>\n",
              "      <td>9.9</td>\n",
              "      <td>6.7</td>\n",
              "      <td>8.5</td>\n",
              "      <td>33</td>\n",
              "      <td>196</td>\n",
              "    </tr>\n",
              "    <tr>\n",
              "      <th>1</th>\n",
              "      <td>ACURA</td>\n",
              "      <td>ILX</td>\n",
              "      <td>COMPACT</td>\n",
              "      <td>2.4</td>\n",
              "      <td>4</td>\n",
              "      <td>M6</td>\n",
              "      <td>Z</td>\n",
              "      <td>11.2</td>\n",
              "      <td>7.7</td>\n",
              "      <td>9.6</td>\n",
              "      <td>29</td>\n",
              "      <td>221</td>\n",
              "    </tr>\n",
              "    <tr>\n",
              "      <th>2</th>\n",
              "      <td>ACURA</td>\n",
              "      <td>ILX HYBRID</td>\n",
              "      <td>COMPACT</td>\n",
              "      <td>1.5</td>\n",
              "      <td>4</td>\n",
              "      <td>AV7</td>\n",
              "      <td>Z</td>\n",
              "      <td>6.0</td>\n",
              "      <td>5.8</td>\n",
              "      <td>5.9</td>\n",
              "      <td>48</td>\n",
              "      <td>136</td>\n",
              "    </tr>\n",
              "    <tr>\n",
              "      <th>3</th>\n",
              "      <td>ACURA</td>\n",
              "      <td>MDX 4WD</td>\n",
              "      <td>SUV - SMALL</td>\n",
              "      <td>3.5</td>\n",
              "      <td>6</td>\n",
              "      <td>AS6</td>\n",
              "      <td>Z</td>\n",
              "      <td>12.7</td>\n",
              "      <td>9.1</td>\n",
              "      <td>11.1</td>\n",
              "      <td>25</td>\n",
              "      <td>255</td>\n",
              "    </tr>\n",
              "    <tr>\n",
              "      <th>4</th>\n",
              "      <td>ACURA</td>\n",
              "      <td>RDX AWD</td>\n",
              "      <td>SUV - SMALL</td>\n",
              "      <td>3.5</td>\n",
              "      <td>6</td>\n",
              "      <td>AS6</td>\n",
              "      <td>Z</td>\n",
              "      <td>12.1</td>\n",
              "      <td>8.7</td>\n",
              "      <td>10.6</td>\n",
              "      <td>27</td>\n",
              "      <td>244</td>\n",
              "    </tr>\n",
              "    <tr>\n",
              "      <th>5</th>\n",
              "      <td>ACURA</td>\n",
              "      <td>RLX</td>\n",
              "      <td>MID-SIZE</td>\n",
              "      <td>3.5</td>\n",
              "      <td>6</td>\n",
              "      <td>AS6</td>\n",
              "      <td>Z</td>\n",
              "      <td>11.9</td>\n",
              "      <td>7.7</td>\n",
              "      <td>10.0</td>\n",
              "      <td>28</td>\n",
              "      <td>230</td>\n",
              "    </tr>\n",
              "    <tr>\n",
              "      <th>6</th>\n",
              "      <td>ACURA</td>\n",
              "      <td>TL</td>\n",
              "      <td>MID-SIZE</td>\n",
              "      <td>3.5</td>\n",
              "      <td>6</td>\n",
              "      <td>AS6</td>\n",
              "      <td>Z</td>\n",
              "      <td>11.8</td>\n",
              "      <td>8.1</td>\n",
              "      <td>10.1</td>\n",
              "      <td>28</td>\n",
              "      <td>232</td>\n",
              "    </tr>\n",
              "    <tr>\n",
              "      <th>7</th>\n",
              "      <td>ACURA</td>\n",
              "      <td>TL AWD</td>\n",
              "      <td>MID-SIZE</td>\n",
              "      <td>3.7</td>\n",
              "      <td>6</td>\n",
              "      <td>AS6</td>\n",
              "      <td>Z</td>\n",
              "      <td>12.8</td>\n",
              "      <td>9.0</td>\n",
              "      <td>11.1</td>\n",
              "      <td>25</td>\n",
              "      <td>255</td>\n",
              "    </tr>\n",
              "    <tr>\n",
              "      <th>8</th>\n",
              "      <td>ACURA</td>\n",
              "      <td>TL AWD</td>\n",
              "      <td>MID-SIZE</td>\n",
              "      <td>3.7</td>\n",
              "      <td>6</td>\n",
              "      <td>M6</td>\n",
              "      <td>Z</td>\n",
              "      <td>13.4</td>\n",
              "      <td>9.5</td>\n",
              "      <td>11.6</td>\n",
              "      <td>24</td>\n",
              "      <td>267</td>\n",
              "    </tr>\n",
              "    <tr>\n",
              "      <th>9</th>\n",
              "      <td>ACURA</td>\n",
              "      <td>TSX</td>\n",
              "      <td>COMPACT</td>\n",
              "      <td>2.4</td>\n",
              "      <td>4</td>\n",
              "      <td>AS5</td>\n",
              "      <td>Z</td>\n",
              "      <td>10.6</td>\n",
              "      <td>7.5</td>\n",
              "      <td>9.2</td>\n",
              "      <td>31</td>\n",
              "      <td>212</td>\n",
              "    </tr>\n",
              "  </tbody>\n",
              "</table>\n",
              "</div>"
            ],
            "text/plain": [
              "    Make       Model Vehicle Class  Engine Size(L)  Cylinders Transmission  \\\n",
              "0  ACURA         ILX       COMPACT             2.0          4          AS5   \n",
              "1  ACURA         ILX       COMPACT             2.4          4           M6   \n",
              "2  ACURA  ILX HYBRID       COMPACT             1.5          4          AV7   \n",
              "3  ACURA     MDX 4WD   SUV - SMALL             3.5          6          AS6   \n",
              "4  ACURA     RDX AWD   SUV - SMALL             3.5          6          AS6   \n",
              "5  ACURA         RLX      MID-SIZE             3.5          6          AS6   \n",
              "6  ACURA          TL      MID-SIZE             3.5          6          AS6   \n",
              "7  ACURA      TL AWD      MID-SIZE             3.7          6          AS6   \n",
              "8  ACURA      TL AWD      MID-SIZE             3.7          6           M6   \n",
              "9  ACURA         TSX       COMPACT             2.4          4          AS5   \n",
              "\n",
              "  Fuel Type  Fuel Consumption City (L/100 km)  \\\n",
              "0         Z                               9.9   \n",
              "1         Z                              11.2   \n",
              "2         Z                               6.0   \n",
              "3         Z                              12.7   \n",
              "4         Z                              12.1   \n",
              "5         Z                              11.9   \n",
              "6         Z                              11.8   \n",
              "7         Z                              12.8   \n",
              "8         Z                              13.4   \n",
              "9         Z                              10.6   \n",
              "\n",
              "   Fuel Consumption Hwy (L/100 km)  Fuel Consumption Comb (L/100 km)  \\\n",
              "0                              6.7                               8.5   \n",
              "1                              7.7                               9.6   \n",
              "2                              5.8                               5.9   \n",
              "3                              9.1                              11.1   \n",
              "4                              8.7                              10.6   \n",
              "5                              7.7                              10.0   \n",
              "6                              8.1                              10.1   \n",
              "7                              9.0                              11.1   \n",
              "8                              9.5                              11.6   \n",
              "9                              7.5                               9.2   \n",
              "\n",
              "   Fuel Consumption Comb (mpg)  CO2 Emissions(g/km)  \n",
              "0                           33                  196  \n",
              "1                           29                  221  \n",
              "2                           48                  136  \n",
              "3                           25                  255  \n",
              "4                           27                  244  \n",
              "5                           28                  230  \n",
              "6                           28                  232  \n",
              "7                           25                  255  \n",
              "8                           24                  267  \n",
              "9                           31                  212  "
            ]
          },
          "metadata": {
            "tags": []
          },
          "execution_count": 2
        }
      ]
    },
    {
      "cell_type": "code",
      "metadata": {
        "execution": {
          "iopub.execute_input": "2021-04-19T18:45:36.435634Z",
          "iopub.status.busy": "2021-04-19T18:45:36.434930Z",
          "iopub.status.idle": "2021-04-19T18:45:36.439276Z",
          "shell.execute_reply": "2021-04-19T18:45:36.438734Z"
        },
        "papermill": {
          "duration": 0.037417,
          "end_time": "2021-04-19T18:45:36.439434",
          "exception": false,
          "start_time": "2021-04-19T18:45:36.402017",
          "status": "completed"
        },
        "tags": [],
        "id": "conventional-narrow",
        "outputId": "589ee2c7-f907-4042-d9a2-c233d36b7aa4"
      },
      "source": [
        "data.shape"
      ],
      "id": "conventional-narrow",
      "execution_count": null,
      "outputs": [
        {
          "output_type": "execute_result",
          "data": {
            "text/plain": [
              "(7385, 12)"
            ]
          },
          "metadata": {
            "tags": []
          },
          "execution_count": 3
        }
      ]
    },
    {
      "cell_type": "code",
      "metadata": {
        "execution": {
          "iopub.execute_input": "2021-04-19T18:45:36.500737Z",
          "iopub.status.busy": "2021-04-19T18:45:36.500095Z",
          "iopub.status.idle": "2021-04-19T18:45:36.524155Z",
          "shell.execute_reply": "2021-04-19T18:45:36.524702Z"
        },
        "papermill": {
          "duration": 0.0564,
          "end_time": "2021-04-19T18:45:36.524898",
          "exception": false,
          "start_time": "2021-04-19T18:45:36.468498",
          "status": "completed"
        },
        "tags": [],
        "id": "collected-import",
        "outputId": "078b8e1b-cc70-4cbf-ed87-8e65d2296ce5"
      },
      "source": [
        "data.nunique()"
      ],
      "id": "collected-import",
      "execution_count": null,
      "outputs": [
        {
          "output_type": "execute_result",
          "data": {
            "text/plain": [
              "Make                                  42\n",
              "Model                               2053\n",
              "Vehicle Class                         16\n",
              "Engine Size(L)                        51\n",
              "Cylinders                              8\n",
              "Transmission                          27\n",
              "Fuel Type                              5\n",
              "Fuel Consumption City (L/100 km)     211\n",
              "Fuel Consumption Hwy (L/100 km)      143\n",
              "Fuel Consumption Comb (L/100 km)     181\n",
              "Fuel Consumption Comb (mpg)           54\n",
              "CO2 Emissions(g/km)                  331\n",
              "dtype: int64"
            ]
          },
          "metadata": {
            "tags": []
          },
          "execution_count": 4
        }
      ]
    },
    {
      "cell_type": "code",
      "metadata": {
        "execution": {
          "iopub.execute_input": "2021-04-19T18:45:36.587129Z",
          "iopub.status.busy": "2021-04-19T18:45:36.586442Z",
          "iopub.status.idle": "2021-04-19T18:45:36.598728Z",
          "shell.execute_reply": "2021-04-19T18:45:36.599272Z"
        },
        "papermill": {
          "duration": 0.044932,
          "end_time": "2021-04-19T18:45:36.599462",
          "exception": false,
          "start_time": "2021-04-19T18:45:36.554530",
          "status": "completed"
        },
        "tags": [],
        "id": "hazardous-character",
        "outputId": "269274c4-82ce-4bdd-93e7-7c15d9e5d18a"
      },
      "source": [
        "data.isnull().sum()"
      ],
      "id": "hazardous-character",
      "execution_count": null,
      "outputs": [
        {
          "output_type": "execute_result",
          "data": {
            "text/plain": [
              "Make                                0\n",
              "Model                               0\n",
              "Vehicle Class                       0\n",
              "Engine Size(L)                      0\n",
              "Cylinders                           0\n",
              "Transmission                        0\n",
              "Fuel Type                           0\n",
              "Fuel Consumption City (L/100 km)    0\n",
              "Fuel Consumption Hwy (L/100 km)     0\n",
              "Fuel Consumption Comb (L/100 km)    0\n",
              "Fuel Consumption Comb (mpg)         0\n",
              "CO2 Emissions(g/km)                 0\n",
              "dtype: int64"
            ]
          },
          "metadata": {
            "tags": []
          },
          "execution_count": 5
        }
      ]
    },
    {
      "cell_type": "code",
      "metadata": {
        "execution": {
          "iopub.execute_input": "2021-04-19T18:45:36.664601Z",
          "iopub.status.busy": "2021-04-19T18:45:36.663916Z",
          "iopub.status.idle": "2021-04-19T18:45:36.676668Z",
          "shell.execute_reply": "2021-04-19T18:45:36.677217Z"
        },
        "papermill": {
          "duration": 0.04845,
          "end_time": "2021-04-19T18:45:36.677404",
          "exception": false,
          "start_time": "2021-04-19T18:45:36.628954",
          "status": "completed"
        },
        "tags": [],
        "id": "knowing-equilibrium",
        "outputId": "3c384513-b315-4293-a6d3-cc686b542b94"
      },
      "source": [
        "data.duplicated().sum()"
      ],
      "id": "knowing-equilibrium",
      "execution_count": null,
      "outputs": [
        {
          "output_type": "execute_result",
          "data": {
            "text/plain": [
              "1103"
            ]
          },
          "metadata": {
            "tags": []
          },
          "execution_count": 6
        }
      ]
    },
    {
      "cell_type": "code",
      "metadata": {
        "execution": {
          "iopub.execute_input": "2021-04-19T18:45:36.744934Z",
          "iopub.status.busy": "2021-04-19T18:45:36.743914Z",
          "iopub.status.idle": "2021-04-19T18:45:36.755183Z",
          "shell.execute_reply": "2021-04-19T18:45:36.754595Z"
        },
        "papermill": {
          "duration": 0.047472,
          "end_time": "2021-04-19T18:45:36.755327",
          "exception": false,
          "start_time": "2021-04-19T18:45:36.707855",
          "status": "completed"
        },
        "tags": [],
        "id": "sharp-referral"
      },
      "source": [
        "data.drop_duplicates(inplace=True)"
      ],
      "id": "sharp-referral",
      "execution_count": null,
      "outputs": []
    },
    {
      "cell_type": "code",
      "metadata": {
        "execution": {
          "iopub.execute_input": "2021-04-19T18:45:36.821744Z",
          "iopub.status.busy": "2021-04-19T18:45:36.820888Z",
          "iopub.status.idle": "2021-04-19T18:45:36.826432Z",
          "shell.execute_reply": "2021-04-19T18:45:36.826905Z"
        },
        "papermill": {
          "duration": 0.041272,
          "end_time": "2021-04-19T18:45:36.827083",
          "exception": false,
          "start_time": "2021-04-19T18:45:36.785811",
          "status": "completed"
        },
        "tags": [],
        "id": "outstanding-restaurant",
        "outputId": "9a4b37a8-5707-4cdb-ecfd-62d4ca6d1af2"
      },
      "source": [
        "data[\"Fuel Type\"].unique()"
      ],
      "id": "outstanding-restaurant",
      "execution_count": null,
      "outputs": [
        {
          "output_type": "execute_result",
          "data": {
            "text/plain": [
              "array(['Z', 'D', 'X', 'E', 'N'], dtype=object)"
            ]
          },
          "metadata": {
            "tags": []
          },
          "execution_count": 8
        }
      ]
    },
    {
      "cell_type": "code",
      "metadata": {
        "execution": {
          "iopub.execute_input": "2021-04-19T18:45:36.894804Z",
          "iopub.status.busy": "2021-04-19T18:45:36.894141Z",
          "iopub.status.idle": "2021-04-19T18:45:36.899470Z",
          "shell.execute_reply": "2021-04-19T18:45:36.899946Z"
        },
        "papermill": {
          "duration": 0.041729,
          "end_time": "2021-04-19T18:45:36.900137",
          "exception": false,
          "start_time": "2021-04-19T18:45:36.858408",
          "status": "completed"
        },
        "tags": [],
        "id": "functioning-representative",
        "outputId": "c230a1b6-d864-423e-f6fe-24fc19f809e7"
      },
      "source": [
        "data[\"Transmission\"].unique()"
      ],
      "id": "functioning-representative",
      "execution_count": null,
      "outputs": [
        {
          "output_type": "execute_result",
          "data": {
            "text/plain": [
              "array(['AS5', 'M6', 'AV7', 'AS6', 'AM6', 'A6', 'AM7', 'AV8', 'AS8', 'A7',\n",
              "       'A8', 'M7', 'A4', 'M5', 'AV', 'A5', 'AS7', 'A9', 'AS9', 'AV6',\n",
              "       'AS4', 'AM5', 'AM8', 'AM9', 'AS10', 'A10', 'AV10'], dtype=object)"
            ]
          },
          "metadata": {
            "tags": []
          },
          "execution_count": 9
        }
      ]
    },
    {
      "cell_type": "code",
      "metadata": {
        "execution": {
          "iopub.execute_input": "2021-04-19T18:45:36.970126Z",
          "iopub.status.busy": "2021-04-19T18:45:36.969176Z",
          "iopub.status.idle": "2021-04-19T18:45:36.976156Z",
          "shell.execute_reply": "2021-04-19T18:45:36.975224Z"
        },
        "papermill": {
          "duration": 0.044961,
          "end_time": "2021-04-19T18:45:36.976396",
          "exception": false,
          "start_time": "2021-04-19T18:45:36.931435",
          "status": "completed"
        },
        "tags": [],
        "id": "unlikely-census",
        "outputId": "3dd8b265-ad07-40c3-ade1-5b34246134ba"
      },
      "source": [
        "data[\"Vehicle Class\"].unique()"
      ],
      "id": "unlikely-census",
      "execution_count": null,
      "outputs": [
        {
          "output_type": "execute_result",
          "data": {
            "text/plain": [
              "array(['COMPACT', 'SUV - SMALL', 'MID-SIZE', 'TWO-SEATER', 'MINICOMPACT',\n",
              "       'SUBCOMPACT', 'FULL-SIZE', 'STATION WAGON - SMALL',\n",
              "       'SUV - STANDARD', 'VAN - CARGO', 'VAN - PASSENGER',\n",
              "       'PICKUP TRUCK - STANDARD', 'MINIVAN', 'SPECIAL PURPOSE VEHICLE',\n",
              "       'STATION WAGON - MID-SIZE', 'PICKUP TRUCK - SMALL'], dtype=object)"
            ]
          },
          "metadata": {
            "tags": []
          },
          "execution_count": 10
        }
      ]
    },
    {
      "cell_type": "code",
      "metadata": {
        "execution": {
          "iopub.execute_input": "2021-04-19T18:45:37.061997Z",
          "iopub.status.busy": "2021-04-19T18:45:37.061266Z",
          "iopub.status.idle": "2021-04-19T18:45:37.252335Z",
          "shell.execute_reply": "2021-04-19T18:45:37.251612Z"
        },
        "papermill": {
          "duration": 0.244392,
          "end_time": "2021-04-19T18:45:37.252484",
          "exception": false,
          "start_time": "2021-04-19T18:45:37.008092",
          "status": "completed"
        },
        "tags": [],
        "id": "informed-consent",
        "outputId": "dff39179-5aa8-4f35-faa6-b1b296094fe9"
      },
      "source": [
        "plt.scatter(data[\"Engine Size(L)\"], data[\"CO2 Emissions(g/km)\"])"
      ],
      "id": "informed-consent",
      "execution_count": null,
      "outputs": [
        {
          "output_type": "execute_result",
          "data": {
            "text/plain": [
              "<matplotlib.collections.PathCollection at 0x7fe0b0b2b6d0>"
            ]
          },
          "metadata": {
            "tags": []
          },
          "execution_count": 11
        },
        {
          "output_type": "display_data",
          "data": {
            "image/png": "[encoded data removed]",
            "text/plain": [
              "<Figure size 432x288 with 1 Axes>"
            ]
          },
          "metadata": {
            "tags": [],
            "needs_background": "light"
          }
        }
      ]
    },
    {
      "cell_type": "code",
      "metadata": {
        "execution": {
          "iopub.execute_input": "2021-04-19T18:45:37.348353Z",
          "iopub.status.busy": "2021-04-19T18:45:37.341736Z",
          "iopub.status.idle": "2021-04-19T18:45:37.472476Z",
          "shell.execute_reply": "2021-04-19T18:45:37.471899Z"
        },
        "papermill": {
          "duration": 0.185963,
          "end_time": "2021-04-19T18:45:37.472621",
          "exception": false,
          "start_time": "2021-04-19T18:45:37.286658",
          "status": "completed"
        },
        "tags": [],
        "id": "solar-cleaner",
        "outputId": "12818d8b-35f3-4083-8c47-b0948a6c74ae"
      },
      "source": [
        "plt.scatter(data[\"Fuel Consumption Comb (L/100 km)\"], data[\"CO2 Emissions(g/km)\"])"
      ],
      "id": "solar-cleaner",
      "execution_count": null,
      "outputs": [
        {
          "output_type": "execute_result",
          "data": {
            "text/plain": [
              "<matplotlib.collections.PathCollection at 0x7fe0a8afbd90>"
            ]
          },
          "metadata": {
            "tags": []
          },
          "execution_count": 12
        },
        {
          "output_type": "display_data",
          "data": {
            "image/png": "[encoded data removed]",
            "text/plain": [
              "<Figure size 432x288 with 1 Axes>"
            ]
          },
          "metadata": {
            "tags": [],
            "needs_background": "light"
          }
        }
      ]
    },
    {
      "cell_type": "code",
      "metadata": {
        "execution": {
          "iopub.execute_input": "2021-04-19T18:45:37.549462Z",
          "iopub.status.busy": "2021-04-19T18:45:37.548126Z",
          "iopub.status.idle": "2021-04-19T18:45:38.078917Z",
          "shell.execute_reply": "2021-04-19T18:45:38.078046Z"
        },
        "papermill": {
          "duration": 0.571419,
          "end_time": "2021-04-19T18:45:38.079143",
          "exception": false,
          "start_time": "2021-04-19T18:45:37.507724",
          "status": "completed"
        },
        "tags": [],
        "id": "catholic-convergence",
        "outputId": "b1de289f-6130-489a-fc05-f750642df1af"
      },
      "source": [
        "sns.barplot(data[\"Cylinders\"],data[\"CO2 Emissions(g/km)\"])"
      ],
      "id": "catholic-convergence",
      "execution_count": null,
      "outputs": [
        {
          "output_type": "stream",
          "text": [
            "/opt/conda/lib/python3.7/site-packages/seaborn/_decorators.py:43: FutureWarning: Pass the following variables as keyword args: x, y. From version 0.12, the only valid positional argument will be `data`, and passing other arguments without an explicit keyword will result in an error or misinterpretation.\n",
            "  FutureWarning\n"
          ],
          "name": "stderr"
        },
        {
          "output_type": "execute_result",
          "data": {
            "text/plain": [
              "<AxesSubplot:xlabel='Cylinders', ylabel='CO2 Emissions(g/km)'>"
            ]
          },
          "metadata": {
            "tags": []
          },
          "execution_count": 13
        },
        {
          "output_type": "display_data",
          "data": {
            "image/png": "[encoded data removed]",
            "text/plain": [
              "<Figure size 432x288 with 1 Axes>"
            ]
          },
          "metadata": {
            "tags": [],
            "needs_background": "light"
          }
        }
      ]
    },
    {
      "cell_type": "code",
      "metadata": {
        "execution": {
          "iopub.execute_input": "2021-04-19T18:45:38.174086Z",
          "iopub.status.busy": "2021-04-19T18:45:38.172997Z",
          "iopub.status.idle": "2021-04-19T18:45:38.512152Z",
          "shell.execute_reply": "2021-04-19T18:45:38.512655Z"
        },
        "papermill": {
          "duration": 0.391043,
          "end_time": "2021-04-19T18:45:38.512853",
          "exception": false,
          "start_time": "2021-04-19T18:45:38.121810",
          "status": "completed"
        },
        "tags": [],
        "id": "coastal-thesaurus",
        "outputId": "7c5652e4-a8c3-4847-be9a-2ae1c2f42dc1"
      },
      "source": [
        "sns.barplot(data[\"Fuel Type\"],data[\"CO2 Emissions(g/km)\"])"
      ],
      "id": "coastal-thesaurus",
      "execution_count": null,
      "outputs": [
        {
          "output_type": "stream",
          "text": [
            "/opt/conda/lib/python3.7/site-packages/seaborn/_decorators.py:43: FutureWarning: Pass the following variables as keyword args: x, y. From version 0.12, the only valid positional argument will be `data`, and passing other arguments without an explicit keyword will result in an error or misinterpretation.\n",
            "  FutureWarning\n"
          ],
          "name": "stderr"
        },
        {
          "output_type": "execute_result",
          "data": {
            "text/plain": [
              "<AxesSubplot:xlabel='Fuel Type', ylabel='CO2 Emissions(g/km)'>"
            ]
          },
          "metadata": {
            "tags": []
          },
          "execution_count": 14
        },
        {
          "output_type": "display_data",
          "data": {
            "image/png": "[encoded data removed]",
            "text/plain": [
              "<Figure size 432x288 with 1 Axes>"
            ]
          },
          "metadata": {
            "tags": [],
            "needs_background": "light"
          }
        }
      ]
    },
    {
      "cell_type": "code",
      "metadata": {
        "execution": {
          "iopub.execute_input": "2021-04-19T18:45:38.597731Z",
          "iopub.status.busy": "2021-04-19T18:45:38.596690Z",
          "iopub.status.idle": "2021-04-19T18:45:39.485097Z",
          "shell.execute_reply": "2021-04-19T18:45:39.484294Z"
        },
        "papermill": {
          "duration": 0.934929,
          "end_time": "2021-04-19T18:45:39.485249",
          "exception": false,
          "start_time": "2021-04-19T18:45:38.550320",
          "status": "completed"
        },
        "tags": [],
        "id": "adopted-pocket",
        "outputId": "60fe9aee-69f8-449e-9cfb-0088adb03773"
      },
      "source": [
        "plt.figure(figsize=(10,5))\n",
        "order =data.groupby(['Vehicle Class']).mean().sort_values('CO2 Emissions(g/km)',ascending=False).index\n",
        "sns.barplot(data[\"CO2 Emissions(g/km)\"],data[\"Vehicle Class\"],order=order)"
      ],
      "id": "adopted-pocket",
      "execution_count": null,
      "outputs": [
        {
          "output_type": "stream",
          "text": [
            "/opt/conda/lib/python3.7/site-packages/seaborn/_decorators.py:43: FutureWarning: Pass the following variables as keyword args: x, y. From version 0.12, the only valid positional argument will be `data`, and passing other arguments without an explicit keyword will result in an error or misinterpretation.\n",
            "  FutureWarning\n"
          ],
          "name": "stderr"
        },
        {
          "output_type": "execute_result",
          "data": {
            "text/plain": [
              "<AxesSubplot:xlabel='CO2 Emissions(g/km)', ylabel='Vehicle Class'>"
            ]
          },
          "metadata": {
            "tags": []
          },
          "execution_count": 15
        },
        {
          "output_type": "display_data",
          "data": {
            "image/png": "[encoded data removed]",
            "text/plain": [
              "<Figure size 720x360 with 1 Axes>"
            ]
          },
          "metadata": {
            "tags": [],
            "needs_background": "light"
          }
        }
      ]
    },
    {
      "cell_type": "code",
      "metadata": {
        "execution": {
          "iopub.execute_input": "2021-04-19T18:45:39.575826Z",
          "iopub.status.busy": "2021-04-19T18:45:39.574943Z",
          "iopub.status.idle": "2021-04-19T18:45:40.855560Z",
          "shell.execute_reply": "2021-04-19T18:45:40.854999Z"
        },
        "papermill": {
          "duration": 1.330848,
          "end_time": "2021-04-19T18:45:40.855706",
          "exception": false,
          "start_time": "2021-04-19T18:45:39.524858",
          "status": "completed"
        },
        "tags": [],
        "id": "fatal-marketing",
        "outputId": "c1c33d06-be81-4b37-cfaf-093d688c4a57"
      },
      "source": [
        "plt.figure(figsize = (10,8))\n",
        "order = data.groupby([\"Transmission\"]).mean().sort_values(\"CO2 Emissions(g/km)\", ascending = False).index\n",
        "sns.barplot(data[\"CO2 Emissions(g/km)\"],data[\"Transmission\"],order = order)"
      ],
      "id": "fatal-marketing",
      "execution_count": null,
      "outputs": [
        {
          "output_type": "stream",
          "text": [
            "/opt/conda/lib/python3.7/site-packages/seaborn/_decorators.py:43: FutureWarning: Pass the following variables as keyword args: x, y. From version 0.12, the only valid positional argument will be `data`, and passing other arguments without an explicit keyword will result in an error or misinterpretation.\n",
            "  FutureWarning\n"
          ],
          "name": "stderr"
        },
        {
          "output_type": "execute_result",
          "data": {
            "text/plain": [
              "<AxesSubplot:xlabel='CO2 Emissions(g/km)', ylabel='Transmission'>"
            ]
          },
          "metadata": {
            "tags": []
          },
          "execution_count": 16
        },
        {
          "output_type": "display_data",
          "data": {
            "image/png": "[encoded data removed]",
            "text/plain": [
              "<Figure size 720x576 with 1 Axes>"
            ]
          },
          "metadata": {
            "tags": [],
            "needs_background": "light"
          }
        }
      ]
    },
    {
      "cell_type": "code",
      "metadata": {
        "execution": {
          "iopub.execute_input": "2021-04-19T18:45:40.958993Z",
          "iopub.status.busy": "2021-04-19T18:45:40.944736Z",
          "iopub.status.idle": "2021-04-19T18:45:40.965139Z",
          "shell.execute_reply": "2021-04-19T18:45:40.964584Z"
        },
        "papermill": {
          "duration": 0.067773,
          "end_time": "2021-04-19T18:45:40.965291",
          "exception": false,
          "start_time": "2021-04-19T18:45:40.897518",
          "status": "completed"
        },
        "tags": [],
        "id": "popular-length",
        "outputId": "11544cb3-59c6-4e23-a32d-205a3409636c"
      },
      "source": [
        "X = data[[\"Vehicle Class\",\"Transmission\",\"Fuel Type\",\"Engine Size(L)\",\"Cylinders\",\"Fuel Consumption Comb (L/100 km)\"]]\n",
        "Y = data[[\"CO2 Emissions(g/km)\"]]\n",
        "X.head(10)"
      ],
      "id": "popular-length",
      "execution_count": null,
      "outputs": [
        {
          "output_type": "execute_result",
          "data": {
            "text/html": [
              "<div>\n",
              "<style scoped>\n",
              "    .dataframe tbody tr th:only-of-type {\n",
              "        vertical-align: middle;\n",
              "    }\n",
              "\n",
              "    .dataframe tbody tr th {\n",
              "        vertical-align: top;\n",
              "    }\n",
              "\n",
              "    .dataframe thead th {\n",
              "        text-align: right;\n",
              "    }\n",
              "</style>\n",
              "<table border=\"1\" class=\"dataframe\">\n",
              "  <thead>\n",
              "    <tr style=\"text-align: right;\">\n",
              "      <th></th>\n",
              "      <th>Vehicle Class</th>\n",
              "      <th>Transmission</th>\n",
              "      <th>Fuel Type</th>\n",
              "      <th>Engine Size(L)</th>\n",
              "      <th>Cylinders</th>\n",
              "      <th>Fuel Consumption Comb (L/100 km)</th>\n",
              "    </tr>\n",
              "  </thead>\n",
              "  <tbody>\n",
              "    <tr>\n",
              "      <th>0</th>\n",
              "      <td>COMPACT</td>\n",
              "      <td>AS5</td>\n",
              "      <td>Z</td>\n",
              "      <td>2.0</td>\n",
              "      <td>4</td>\n",
              "      <td>8.5</td>\n",
              "    </tr>\n",
              "    <tr>\n",
              "      <th>1</th>\n",
              "      <td>COMPACT</td>\n",
              "      <td>M6</td>\n",
              "      <td>Z</td>\n",
              "      <td>2.4</td>\n",
              "      <td>4</td>\n",
              "      <td>9.6</td>\n",
              "    </tr>\n",
              "    <tr>\n",
              "      <th>2</th>\n",
              "      <td>COMPACT</td>\n",
              "      <td>AV7</td>\n",
              "      <td>Z</td>\n",
              "      <td>1.5</td>\n",
              "      <td>4</td>\n",
              "      <td>5.9</td>\n",
              "    </tr>\n",
              "    <tr>\n",
              "      <th>3</th>\n",
              "      <td>SUV - SMALL</td>\n",
              "      <td>AS6</td>\n",
              "      <td>Z</td>\n",
              "      <td>3.5</td>\n",
              "      <td>6</td>\n",
              "      <td>11.1</td>\n",
              "    </tr>\n",
              "    <tr>\n",
              "      <th>4</th>\n",
              "      <td>SUV - SMALL</td>\n",
              "      <td>AS6</td>\n",
              "      <td>Z</td>\n",
              "      <td>3.5</td>\n",
              "      <td>6</td>\n",
              "      <td>10.6</td>\n",
              "    </tr>\n",
              "    <tr>\n",
              "      <th>5</th>\n",
              "      <td>MID-SIZE</td>\n",
              "      <td>AS6</td>\n",
              "      <td>Z</td>\n",
              "      <td>3.5</td>\n",
              "      <td>6</td>\n",
              "      <td>10.0</td>\n",
              "    </tr>\n",
              "    <tr>\n",
              "      <th>6</th>\n",
              "      <td>MID-SIZE</td>\n",
              "      <td>AS6</td>\n",
              "      <td>Z</td>\n",
              "      <td>3.5</td>\n",
              "      <td>6</td>\n",
              "      <td>10.1</td>\n",
              "    </tr>\n",
              "    <tr>\n",
              "      <th>7</th>\n",
              "      <td>MID-SIZE</td>\n",
              "      <td>AS6</td>\n",
              "      <td>Z</td>\n",
              "      <td>3.7</td>\n",
              "      <td>6</td>\n",
              "      <td>11.1</td>\n",
              "    </tr>\n",
              "    <tr>\n",
              "      <th>8</th>\n",
              "      <td>MID-SIZE</td>\n",
              "      <td>M6</td>\n",
              "      <td>Z</td>\n",
              "      <td>3.7</td>\n",
              "      <td>6</td>\n",
              "      <td>11.6</td>\n",
              "    </tr>\n",
              "    <tr>\n",
              "      <th>9</th>\n",
              "      <td>COMPACT</td>\n",
              "      <td>AS5</td>\n",
              "      <td>Z</td>\n",
              "      <td>2.4</td>\n",
              "      <td>4</td>\n",
              "      <td>9.2</td>\n",
              "    </tr>\n",
              "  </tbody>\n",
              "</table>\n",
              "</div>"
            ],
            "text/plain": [
              "  Vehicle Class Transmission Fuel Type  Engine Size(L)  Cylinders  \\\n",
              "0       COMPACT          AS5         Z             2.0          4   \n",
              "1       COMPACT           M6         Z             2.4          4   \n",
              "2       COMPACT          AV7         Z             1.5          4   \n",
              "3   SUV - SMALL          AS6         Z             3.5          6   \n",
              "4   SUV - SMALL          AS6         Z             3.5          6   \n",
              "5      MID-SIZE          AS6         Z             3.5          6   \n",
              "6      MID-SIZE          AS6         Z             3.5          6   \n",
              "7      MID-SIZE          AS6         Z             3.7          6   \n",
              "8      MID-SIZE           M6         Z             3.7          6   \n",
              "9       COMPACT          AS5         Z             2.4          4   \n",
              "\n",
              "   Fuel Consumption Comb (L/100 km)  \n",
              "0                               8.5  \n",
              "1                               9.6  \n",
              "2                               5.9  \n",
              "3                              11.1  \n",
              "4                              10.6  \n",
              "5                              10.0  \n",
              "6                              10.1  \n",
              "7                              11.1  \n",
              "8                              11.6  \n",
              "9                               9.2  "
            ]
          },
          "metadata": {
            "tags": []
          },
          "execution_count": 17
        }
      ]
    },
    {
      "cell_type": "code",
      "metadata": {
        "execution": {
          "iopub.execute_input": "2021-04-19T18:45:41.056889Z",
          "iopub.status.busy": "2021-04-19T18:45:41.056203Z",
          "iopub.status.idle": "2021-04-19T18:45:41.271902Z",
          "shell.execute_reply": "2021-04-19T18:45:41.271149Z"
        },
        "papermill": {
          "duration": 0.264593,
          "end_time": "2021-04-19T18:45:41.272046",
          "exception": false,
          "start_time": "2021-04-19T18:45:41.007453",
          "status": "completed"
        },
        "tags": [],
        "id": "characteristic-museum",
        "outputId": "3876379c-3208-45e9-cd49-44ef1f2cf1bf"
      },
      "source": [
        "from sklearn.preprocessing import StandardScaler\n",
        "sc = StandardScaler()\n",
        "cols = [\"Engine Size(L)\",\"Cylinders\",\"Fuel Consumption Comb (L/100 km)\"]\n",
        "X[cols] = sc.fit_transform(X[cols])"
      ],
      "id": "characteristic-museum",
      "execution_count": null,
      "outputs": [
        {
          "output_type": "stream",
          "text": [
            "/opt/conda/lib/python3.7/site-packages/ipykernel_launcher.py:4: SettingWithCopyWarning: \n",
            "A value is trying to be set on a copy of a slice from a DataFrame.\n",
            "Try using .loc[row_indexer,col_indexer] = value instead\n",
            "\n",
            "See the caveats in the documentation: https://pandas.pydata.org/pandas-docs/stable/user_guide/indexing.html#returning-a-view-versus-a-copy\n",
            "  after removing the cwd from sys.path.\n",
            "/opt/conda/lib/python3.7/site-packages/pandas/core/indexing.py:1738: SettingWithCopyWarning: \n",
            "A value is trying to be set on a copy of a slice from a DataFrame.\n",
            "Try using .loc[row_indexer,col_indexer] = value instead\n",
            "\n",
            "See the caveats in the documentation: https://pandas.pydata.org/pandas-docs/stable/user_guide/indexing.html#returning-a-view-versus-a-copy\n",
            "  self._setitem_single_column(loc, value[:, i].tolist(), pi)\n"
          ],
          "name": "stderr"
        }
      ]
    },
    {
      "cell_type": "code",
      "metadata": {
        "execution": {
          "iopub.execute_input": "2021-04-19T18:45:41.363684Z",
          "iopub.status.busy": "2021-04-19T18:45:41.362613Z",
          "iopub.status.idle": "2021-04-19T18:45:41.388158Z",
          "shell.execute_reply": "2021-04-19T18:45:41.389112Z"
        },
        "papermill": {
          "duration": 0.075538,
          "end_time": "2021-04-19T18:45:41.389351",
          "exception": false,
          "start_time": "2021-04-19T18:45:41.313813",
          "status": "completed"
        },
        "tags": [],
        "id": "contained-orlando",
        "outputId": "6c64aacc-a87a-4a0b-fbe5-6f066b423135"
      },
      "source": [
        "from sklearn.preprocessing import OrdinalEncoder\n",
        "oc = OrdinalEncoder()\n",
        "cols = [\"Vehicle Class\",\"Transmission\",\"Fuel Type\"]\n",
        "X[cols] = oc.fit_transform(X[cols])"
      ],
      "id": "contained-orlando",
      "execution_count": null,
      "outputs": [
        {
          "output_type": "stream",
          "text": [
            "/opt/conda/lib/python3.7/site-packages/ipykernel_launcher.py:4: SettingWithCopyWarning: \n",
            "A value is trying to be set on a copy of a slice from a DataFrame.\n",
            "Try using .loc[row_indexer,col_indexer] = value instead\n",
            "\n",
            "See the caveats in the documentation: https://pandas.pydata.org/pandas-docs/stable/user_guide/indexing.html#returning-a-view-versus-a-copy\n",
            "  after removing the cwd from sys.path.\n",
            "/opt/conda/lib/python3.7/site-packages/pandas/core/indexing.py:1738: SettingWithCopyWarning: \n",
            "A value is trying to be set on a copy of a slice from a DataFrame.\n",
            "Try using .loc[row_indexer,col_indexer] = value instead\n",
            "\n",
            "See the caveats in the documentation: https://pandas.pydata.org/pandas-docs/stable/user_guide/indexing.html#returning-a-view-versus-a-copy\n",
            "  self._setitem_single_column(loc, value[:, i].tolist(), pi)\n"
          ],
          "name": "stderr"
        }
      ]
    },
    {
      "cell_type": "code",
      "metadata": {
        "execution": {
          "iopub.execute_input": "2021-04-19T18:45:41.491477Z",
          "iopub.status.busy": "2021-04-19T18:45:41.485042Z",
          "iopub.status.idle": "2021-04-19T18:45:41.498005Z",
          "shell.execute_reply": "2021-04-19T18:45:41.497383Z"
        },
        "papermill": {
          "duration": 0.065637,
          "end_time": "2021-04-19T18:45:41.498156",
          "exception": false,
          "start_time": "2021-04-19T18:45:41.432519",
          "status": "completed"
        },
        "tags": [],
        "id": "enclosed-treatment",
        "outputId": "d806a4e7-ea1d-4345-81bd-03955c19d3c9"
      },
      "source": [
        "X.head(10)"
      ],
      "id": "enclosed-treatment",
      "execution_count": null,
      "outputs": [
        {
          "output_type": "execute_result",
          "data": {
            "text/html": [
              "<div>\n",
              "<style scoped>\n",
              "    .dataframe tbody tr th:only-of-type {\n",
              "        vertical-align: middle;\n",
              "    }\n",
              "\n",
              "    .dataframe tbody tr th {\n",
              "        vertical-align: top;\n",
              "    }\n",
              "\n",
              "    .dataframe thead th {\n",
              "        text-align: right;\n",
              "    }\n",
              "</style>\n",
              "<table border=\"1\" class=\"dataframe\">\n",
              "  <thead>\n",
              "    <tr style=\"text-align: right;\">\n",
              "      <th></th>\n",
              "      <th>Vehicle Class</th>\n",
              "      <th>Transmission</th>\n",
              "      <th>Fuel Type</th>\n",
              "      <th>Engine Size(L)</th>\n",
              "      <th>Cylinders</th>\n",
              "      <th>Fuel Consumption Comb (L/100 km)</th>\n",
              "    </tr>\n",
              "  </thead>\n",
              "  <tbody>\n",
              "    <tr>\n",
              "      <th>0</th>\n",
              "      <td>0.0</td>\n",
              "      <td>14.0</td>\n",
              "      <td>4.0</td>\n",
              "      <td>-0.851086</td>\n",
              "      <td>-0.876934</td>\n",
              "      <td>-0.854490</td>\n",
              "    </tr>\n",
              "    <tr>\n",
              "      <th>1</th>\n",
              "      <td>0.0</td>\n",
              "      <td>25.0</td>\n",
              "      <td>4.0</td>\n",
              "      <td>-0.558066</td>\n",
              "      <td>-0.876934</td>\n",
              "      <td>-0.481184</td>\n",
              "    </tr>\n",
              "    <tr>\n",
              "      <th>2</th>\n",
              "      <td>0.0</td>\n",
              "      <td>22.0</td>\n",
              "      <td>4.0</td>\n",
              "      <td>-1.217362</td>\n",
              "      <td>-0.876934</td>\n",
              "      <td>-1.736851</td>\n",
              "    </tr>\n",
              "    <tr>\n",
              "      <th>3</th>\n",
              "      <td>11.0</td>\n",
              "      <td>15.0</td>\n",
              "      <td>4.0</td>\n",
              "      <td>0.247740</td>\n",
              "      <td>0.206429</td>\n",
              "      <td>0.027870</td>\n",
              "    </tr>\n",
              "    <tr>\n",
              "      <th>4</th>\n",
              "      <td>11.0</td>\n",
              "      <td>15.0</td>\n",
              "      <td>4.0</td>\n",
              "      <td>0.247740</td>\n",
              "      <td>0.206429</td>\n",
              "      <td>-0.141815</td>\n",
              "    </tr>\n",
              "    <tr>\n",
              "      <th>5</th>\n",
              "      <td>2.0</td>\n",
              "      <td>15.0</td>\n",
              "      <td>4.0</td>\n",
              "      <td>0.247740</td>\n",
              "      <td>0.206429</td>\n",
              "      <td>-0.345436</td>\n",
              "    </tr>\n",
              "    <tr>\n",
              "      <th>6</th>\n",
              "      <td>2.0</td>\n",
              "      <td>15.0</td>\n",
              "      <td>4.0</td>\n",
              "      <td>0.247740</td>\n",
              "      <td>0.206429</td>\n",
              "      <td>-0.311499</td>\n",
              "    </tr>\n",
              "    <tr>\n",
              "      <th>7</th>\n",
              "      <td>2.0</td>\n",
              "      <td>15.0</td>\n",
              "      <td>4.0</td>\n",
              "      <td>0.394251</td>\n",
              "      <td>0.206429</td>\n",
              "      <td>0.027870</td>\n",
              "    </tr>\n",
              "    <tr>\n",
              "      <th>8</th>\n",
              "      <td>2.0</td>\n",
              "      <td>25.0</td>\n",
              "      <td>4.0</td>\n",
              "      <td>0.394251</td>\n",
              "      <td>0.206429</td>\n",
              "      <td>0.197555</td>\n",
              "    </tr>\n",
              "    <tr>\n",
              "      <th>9</th>\n",
              "      <td>0.0</td>\n",
              "      <td>14.0</td>\n",
              "      <td>4.0</td>\n",
              "      <td>-0.558066</td>\n",
              "      <td>-0.876934</td>\n",
              "      <td>-0.616932</td>\n",
              "    </tr>\n",
              "  </tbody>\n",
              "</table>\n",
              "</div>"
            ],
            "text/plain": [
              "   Vehicle Class  Transmission  Fuel Type  Engine Size(L)  Cylinders  \\\n",
              "0            0.0          14.0        4.0       -0.851086  -0.876934   \n",
              "1            0.0          25.0        4.0       -0.558066  -0.876934   \n",
              "2            0.0          22.0        4.0       -1.217362  -0.876934   \n",
              "3           11.0          15.0        4.0        0.247740   0.206429   \n",
              "4           11.0          15.0        4.0        0.247740   0.206429   \n",
              "5            2.0          15.0        4.0        0.247740   0.206429   \n",
              "6            2.0          15.0        4.0        0.247740   0.206429   \n",
              "7            2.0          15.0        4.0        0.394251   0.206429   \n",
              "8            2.0          25.0        4.0        0.394251   0.206429   \n",
              "9            0.0          14.0        4.0       -0.558066  -0.876934   \n",
              "\n",
              "   Fuel Consumption Comb (L/100 km)  \n",
              "0                         -0.854490  \n",
              "1                         -0.481184  \n",
              "2                         -1.736851  \n",
              "3                          0.027870  \n",
              "4                         -0.141815  \n",
              "5                         -0.345436  \n",
              "6                         -0.311499  \n",
              "7                          0.027870  \n",
              "8                          0.197555  \n",
              "9                         -0.616932  "
            ]
          },
          "metadata": {
            "tags": []
          },
          "execution_count": 20
        }
      ]
    },
    {
      "cell_type": "code",
      "metadata": {
        "execution": {
          "iopub.execute_input": "2021-04-19T18:45:41.590039Z",
          "iopub.status.busy": "2021-04-19T18:45:41.589260Z",
          "iopub.status.idle": "2021-04-19T18:45:41.740032Z",
          "shell.execute_reply": "2021-04-19T18:45:41.739328Z"
        },
        "papermill": {
          "duration": 0.198533,
          "end_time": "2021-04-19T18:45:41.740179",
          "exception": false,
          "start_time": "2021-04-19T18:45:41.541646",
          "status": "completed"
        },
        "tags": [],
        "id": "infinite-cancellation"
      },
      "source": [
        "# Splitting the data\n",
        "from sklearn.model_selection import train_test_split\n",
        "x_train, x_test, y_train, y_test = train_test_split(X, Y, test_size = 0.2, random_state = 14)"
      ],
      "id": "infinite-cancellation",
      "execution_count": null,
      "outputs": []
    },
    {
      "cell_type": "markdown",
      "metadata": {
        "papermill": {
          "duration": 0.043919,
          "end_time": "2021-04-19T18:45:41.827446",
          "exception": false,
          "start_time": "2021-04-19T18:45:41.783527",
          "status": "completed"
        },
        "tags": [],
        "id": "polished-bangkok"
      },
      "source": [
        "# Polynomial Regression"
      ],
      "id": "polished-bangkok"
    },
    {
      "cell_type": "code",
      "metadata": {
        "execution": {
          "iopub.execute_input": "2021-04-19T18:45:41.927418Z",
          "iopub.status.busy": "2021-04-19T18:45:41.926205Z",
          "iopub.status.idle": "2021-04-19T18:45:41.936339Z",
          "shell.execute_reply": "2021-04-19T18:45:41.936816Z"
        },
        "papermill": {
          "duration": 0.063705,
          "end_time": "2021-04-19T18:45:41.937040",
          "exception": false,
          "start_time": "2021-04-19T18:45:41.873335",
          "status": "completed"
        },
        "tags": [],
        "id": "controlled-draft"
      },
      "source": [
        "from sklearn.preprocessing import PolynomialFeatures\n",
        "poly = PolynomialFeatures(degree = 2)\n",
        "x_train_poly = poly.fit_transform(x_train)\n",
        "x_test_poly = poly.fit_transform(x_test)"
      ],
      "id": "controlled-draft",
      "execution_count": null,
      "outputs": []
    },
    {
      "cell_type": "code",
      "metadata": {
        "execution": {
          "iopub.execute_input": "2021-04-19T18:45:42.030559Z",
          "iopub.status.busy": "2021-04-19T18:45:42.029812Z",
          "iopub.status.idle": "2021-04-19T18:45:42.177317Z",
          "shell.execute_reply": "2021-04-19T18:45:42.178235Z"
        },
        "papermill": {
          "duration": 0.197383,
          "end_time": "2021-04-19T18:45:42.178517",
          "exception": false,
          "start_time": "2021-04-19T18:45:41.981134",
          "status": "completed"
        },
        "tags": [],
        "id": "experimental-webster",
        "outputId": "c3e6fba4-64f5-46c0-cfcf-e370b43f529d"
      },
      "source": [
        "from sklearn.linear_model import LinearRegression\n",
        "reg = LinearRegression()\n",
        "reg.fit(x_train_poly,y_train)"
      ],
      "id": "experimental-webster",
      "execution_count": null,
      "outputs": [
        {
          "output_type": "execute_result",
          "data": {
            "text/plain": [
              "LinearRegression()"
            ]
          },
          "metadata": {
            "tags": []
          },
          "execution_count": 23
        }
      ]
    },
    {
      "cell_type": "code",
      "metadata": {
        "execution": {
          "iopub.execute_input": "2021-04-19T18:45:42.320370Z",
          "iopub.status.busy": "2021-04-19T18:45:42.319310Z",
          "iopub.status.idle": "2021-04-19T18:45:42.328439Z",
          "shell.execute_reply": "2021-04-19T18:45:42.329469Z"
        },
        "papermill": {
          "duration": 0.07053,
          "end_time": "2021-04-19T18:45:42.329742",
          "exception": false,
          "start_time": "2021-04-19T18:45:42.259212",
          "status": "completed"
        },
        "tags": [],
        "id": "several-being",
        "outputId": "d7657065-b27b-4f71-e561-224a30b590a5"
      },
      "source": [
        "reg.score(x_train_poly,y_train)"
      ],
      "id": "several-being",
      "execution_count": null,
      "outputs": [
        {
          "output_type": "execute_result",
          "data": {
            "text/plain": [
              "0.9780428330316173"
            ]
          },
          "metadata": {
            "tags": []
          },
          "execution_count": 24
        }
      ]
    },
    {
      "cell_type": "code",
      "metadata": {
        "execution": {
          "iopub.execute_input": "2021-04-19T18:45:42.473372Z",
          "iopub.status.busy": "2021-04-19T18:45:42.472275Z",
          "iopub.status.idle": "2021-04-19T18:45:42.484177Z",
          "shell.execute_reply": "2021-04-19T18:45:42.485252Z"
        },
        "papermill": {
          "duration": 0.07541,
          "end_time": "2021-04-19T18:45:42.485538",
          "exception": false,
          "start_time": "2021-04-19T18:45:42.410128",
          "status": "completed"
        },
        "tags": [],
        "id": "communist-intermediate",
        "outputId": "ac8c2e4b-2b59-4385-da1a-21683f90146a"
      },
      "source": [
        "reg.score(x_test_poly,y_test)"
      ],
      "id": "communist-intermediate",
      "execution_count": null,
      "outputs": [
        {
          "output_type": "execute_result",
          "data": {
            "text/plain": [
              "0.9794464379667018"
            ]
          },
          "metadata": {
            "tags": []
          },
          "execution_count": 25
        }
      ]
    },
    {
      "cell_type": "markdown",
      "metadata": {
        "papermill": {
          "duration": 0.056579,
          "end_time": "2021-04-19T18:45:42.623052",
          "exception": false,
          "start_time": "2021-04-19T18:45:42.566473",
          "status": "completed"
        },
        "tags": [],
        "id": "intermediate-secretary"
      },
      "source": [
        "# Decision Tree Regression"
      ],
      "id": "intermediate-secretary"
    },
    {
      "cell_type": "code",
      "metadata": {
        "execution": {
          "iopub.execute_input": "2021-04-19T18:45:42.723685Z",
          "iopub.status.busy": "2021-04-19T18:45:42.722489Z",
          "iopub.status.idle": "2021-04-19T18:45:42.859909Z",
          "shell.execute_reply": "2021-04-19T18:45:42.859212Z"
        },
        "papermill": {
          "duration": 0.191368,
          "end_time": "2021-04-19T18:45:42.860076",
          "exception": false,
          "start_time": "2021-04-19T18:45:42.668708",
          "status": "completed"
        },
        "tags": [],
        "id": "perfect-passage",
        "outputId": "2025e3ea-48af-41e2-dda9-2539c686c809"
      },
      "source": [
        "from sklearn.tree import DecisionTreeRegressor\n",
        "dt_reg = DecisionTreeRegressor(random_state = 5, max_depth = 5)\n",
        "dt_reg.fit(x_train,y_train)"
      ],
      "id": "perfect-passage",
      "execution_count": null,
      "outputs": [
        {
          "output_type": "execute_result",
          "data": {
            "text/plain": [
              "DecisionTreeRegressor(max_depth=5, random_state=5)"
            ]
          },
          "metadata": {
            "tags": []
          },
          "execution_count": 26
        }
      ]
    },
    {
      "cell_type": "code",
      "metadata": {
        "execution": {
          "iopub.execute_input": "2021-04-19T18:45:42.959116Z",
          "iopub.status.busy": "2021-04-19T18:45:42.958403Z",
          "iopub.status.idle": "2021-04-19T18:45:42.967460Z",
          "shell.execute_reply": "2021-04-19T18:45:42.966768Z"
        },
        "papermill": {
          "duration": 0.062439,
          "end_time": "2021-04-19T18:45:42.967602",
          "exception": false,
          "start_time": "2021-04-19T18:45:42.905163",
          "status": "completed"
        },
        "tags": [],
        "id": "effective-regular",
        "outputId": "379909f0-a5c7-4c1e-a2ff-fd8c95f35ed9"
      },
      "source": [
        "dt_reg.score(x_train,y_train)"
      ],
      "id": "effective-regular",
      "execution_count": null,
      "outputs": [
        {
          "output_type": "execute_result",
          "data": {
            "text/plain": [
              "0.9835169463357659"
            ]
          },
          "metadata": {
            "tags": []
          },
          "execution_count": 27
        }
      ]
    },
    {
      "cell_type": "code",
      "metadata": {
        "execution": {
          "iopub.execute_input": "2021-04-19T18:45:43.071116Z",
          "iopub.status.busy": "2021-04-19T18:45:43.069199Z",
          "iopub.status.idle": "2021-04-19T18:45:43.078981Z",
          "shell.execute_reply": "2021-04-19T18:45:43.078383Z"
        },
        "papermill": {
          "duration": 0.064591,
          "end_time": "2021-04-19T18:45:43.079132",
          "exception": false,
          "start_time": "2021-04-19T18:45:43.014541",
          "status": "completed"
        },
        "tags": [],
        "id": "informal-header",
        "outputId": "244d192c-deec-4da0-f9d3-f2ac303ea2f0"
      },
      "source": [
        "dt_reg.score(x_test,y_test)"
      ],
      "id": "informal-header",
      "execution_count": null,
      "outputs": [
        {
          "output_type": "execute_result",
          "data": {
            "text/plain": [
              "0.9785721631327842"
            ]
          },
          "metadata": {
            "tags": []
          },
          "execution_count": 28
        }
      ]
    },
    {
      "cell_type": "markdown",
      "metadata": {
        "papermill": {
          "duration": 0.047643,
          "end_time": "2021-04-19T18:45:43.173118",
          "exception": false,
          "start_time": "2021-04-19T18:45:43.125475",
          "status": "completed"
        },
        "tags": [],
        "id": "incomplete-chambers"
      },
      "source": [
        "# Random Forest Regression"
      ],
      "id": "incomplete-chambers"
    },
    {
      "cell_type": "code",
      "metadata": {
        "execution": {
          "iopub.execute_input": "2021-04-19T18:45:43.273859Z",
          "iopub.status.busy": "2021-04-19T18:45:43.273114Z",
          "iopub.status.idle": "2021-04-19T18:45:43.343474Z",
          "shell.execute_reply": "2021-04-19T18:45:43.342696Z"
        },
        "papermill": {
          "duration": 0.121973,
          "end_time": "2021-04-19T18:45:43.343652",
          "exception": false,
          "start_time": "2021-04-19T18:45:43.221679",
          "status": "completed"
        },
        "tags": [],
        "id": "sorted-stewart",
        "outputId": "10ef9b15-6353-44f7-f525-373fff3c7c2b"
      },
      "source": [
        "from sklearn.ensemble import RandomForestRegressor\n",
        "rf_reg = RandomForestRegressor(n_estimators = 3, random_state = 0)\n",
        "rf_reg.fit(x_train, y_train)"
      ],
      "id": "sorted-stewart",
      "execution_count": null,
      "outputs": [
        {
          "output_type": "stream",
          "text": [
            "/opt/conda/lib/python3.7/site-packages/ipykernel_launcher.py:3: DataConversionWarning: A column-vector y was passed when a 1d array was expected. Please change the shape of y to (n_samples,), for example using ravel().\n",
            "  This is separate from the ipykernel package so we can avoid doing imports until\n"
          ],
          "name": "stderr"
        },
        {
          "output_type": "execute_result",
          "data": {
            "text/plain": [
              "RandomForestRegressor(n_estimators=3, random_state=0)"
            ]
          },
          "metadata": {
            "tags": []
          },
          "execution_count": 29
        }
      ]
    },
    {
      "cell_type": "code",
      "metadata": {
        "execution": {
          "iopub.execute_input": "2021-04-19T18:45:43.446351Z",
          "iopub.status.busy": "2021-04-19T18:45:43.445282Z",
          "iopub.status.idle": "2021-04-19T18:45:43.455501Z",
          "shell.execute_reply": "2021-04-19T18:45:43.454879Z"
        },
        "papermill": {
          "duration": 0.065114,
          "end_time": "2021-04-19T18:45:43.455638",
          "exception": false,
          "start_time": "2021-04-19T18:45:43.390524",
          "status": "completed"
        },
        "tags": [],
        "id": "conscious-evans",
        "outputId": "12641aaf-a101-4550-eeea-3c578cce8a5c"
      },
      "source": [
        "rf_reg.score(x_train,y_train)"
      ],
      "id": "conscious-evans",
      "execution_count": null,
      "outputs": [
        {
          "output_type": "execute_result",
          "data": {
            "text/plain": [
              "0.9980971358116845"
            ]
          },
          "metadata": {
            "tags": []
          },
          "execution_count": 30
        }
      ]
    },
    {
      "cell_type": "code",
      "metadata": {
        "execution": {
          "iopub.execute_input": "2021-04-19T18:45:43.563009Z",
          "iopub.status.busy": "2021-04-19T18:45:43.559582Z",
          "iopub.status.idle": "2021-04-19T18:45:43.569265Z",
          "shell.execute_reply": "2021-04-19T18:45:43.568583Z"
        },
        "papermill": {
          "duration": 0.065126,
          "end_time": "2021-04-19T18:45:43.569416",
          "exception": false,
          "start_time": "2021-04-19T18:45:43.504290",
          "status": "completed"
        },
        "tags": [],
        "id": "recovered-colon",
        "outputId": "f1a7ad78-26e0-4db1-d4e3-e50662ea743f"
      },
      "source": [
        "rf_reg.score(x_test,y_test)"
      ],
      "id": "recovered-colon",
      "execution_count": null,
      "outputs": [
        {
          "output_type": "execute_result",
          "data": {
            "text/plain": [
              "0.9958800608857328"
            ]
          },
          "metadata": {
            "tags": []
          },
          "execution_count": 31
        }
      ]
    }
  ]
}